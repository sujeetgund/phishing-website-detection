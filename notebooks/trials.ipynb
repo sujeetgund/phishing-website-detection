{
 "cells": [
  {
   "cell_type": "code",
   "execution_count": null,
   "id": "0f86ccfd",
   "metadata": {},
   "outputs": [],
   "source": [
    "%pip install matplotlib seaborn"
   ]
  },
  {
   "cell_type": "code",
   "execution_count": null,
   "id": "5869115a",
   "metadata": {},
   "outputs": [],
   "source": [
    "import pandas as pd\n",
    "import numpy as np\n",
    "import matplotlib.pyplot as plt\n",
    "import seaborn as sns\n",
    "\n",
    "import warnings\n",
    "\n",
    "warnings.filterwarnings(\"ignore\")"
   ]
  },
  {
   "cell_type": "code",
   "execution_count": 3,
   "id": "e99b0611",
   "metadata": {},
   "outputs": [
    {
     "data": {
      "text/html": [
       "<div>\n",
       "<style scoped>\n",
       "    .dataframe tbody tr th:only-of-type {\n",
       "        vertical-align: middle;\n",
       "    }\n",
       "\n",
       "    .dataframe tbody tr th {\n",
       "        vertical-align: top;\n",
       "    }\n",
       "\n",
       "    .dataframe thead th {\n",
       "        text-align: right;\n",
       "    }\n",
       "</style>\n",
       "<table border=\"1\" class=\"dataframe\">\n",
       "  <thead>\n",
       "    <tr style=\"text-align: right;\">\n",
       "      <th></th>\n",
       "      <th>having_IP_Address</th>\n",
       "      <th>URL_Length</th>\n",
       "      <th>Shortining_Service</th>\n",
       "      <th>having_At_Symbol</th>\n",
       "      <th>double_slash_redirecting</th>\n",
       "      <th>Prefix_Suffix</th>\n",
       "      <th>having_Sub_Domain</th>\n",
       "      <th>SSLfinal_State</th>\n",
       "      <th>Domain_registeration_length</th>\n",
       "      <th>Favicon</th>\n",
       "      <th>...</th>\n",
       "      <th>popUpWidnow</th>\n",
       "      <th>Iframe</th>\n",
       "      <th>age_of_domain</th>\n",
       "      <th>DNSRecord</th>\n",
       "      <th>web_traffic</th>\n",
       "      <th>Page_Rank</th>\n",
       "      <th>Google_Index</th>\n",
       "      <th>Links_pointing_to_page</th>\n",
       "      <th>Statistical_report</th>\n",
       "      <th>Result</th>\n",
       "    </tr>\n",
       "  </thead>\n",
       "  <tbody>\n",
       "    <tr>\n",
       "      <th>6201</th>\n",
       "      <td>-1</td>\n",
       "      <td>-1</td>\n",
       "      <td>-1</td>\n",
       "      <td>1</td>\n",
       "      <td>-1</td>\n",
       "      <td>1</td>\n",
       "      <td>0</td>\n",
       "      <td>1</td>\n",
       "      <td>-1</td>\n",
       "      <td>1</td>\n",
       "      <td>...</td>\n",
       "      <td>1</td>\n",
       "      <td>1</td>\n",
       "      <td>-1</td>\n",
       "      <td>-1</td>\n",
       "      <td>1</td>\n",
       "      <td>-1</td>\n",
       "      <td>-1</td>\n",
       "      <td>1</td>\n",
       "      <td>1</td>\n",
       "      <td>1</td>\n",
       "    </tr>\n",
       "    <tr>\n",
       "      <th>793</th>\n",
       "      <td>1</td>\n",
       "      <td>-1</td>\n",
       "      <td>1</td>\n",
       "      <td>1</td>\n",
       "      <td>1</td>\n",
       "      <td>-1</td>\n",
       "      <td>-1</td>\n",
       "      <td>-1</td>\n",
       "      <td>1</td>\n",
       "      <td>1</td>\n",
       "      <td>...</td>\n",
       "      <td>1</td>\n",
       "      <td>1</td>\n",
       "      <td>-1</td>\n",
       "      <td>-1</td>\n",
       "      <td>0</td>\n",
       "      <td>-1</td>\n",
       "      <td>1</td>\n",
       "      <td>1</td>\n",
       "      <td>1</td>\n",
       "      <td>-1</td>\n",
       "    </tr>\n",
       "    <tr>\n",
       "      <th>7110</th>\n",
       "      <td>1</td>\n",
       "      <td>-1</td>\n",
       "      <td>1</td>\n",
       "      <td>1</td>\n",
       "      <td>1</td>\n",
       "      <td>-1</td>\n",
       "      <td>1</td>\n",
       "      <td>1</td>\n",
       "      <td>-1</td>\n",
       "      <td>1</td>\n",
       "      <td>...</td>\n",
       "      <td>1</td>\n",
       "      <td>1</td>\n",
       "      <td>-1</td>\n",
       "      <td>1</td>\n",
       "      <td>1</td>\n",
       "      <td>1</td>\n",
       "      <td>1</td>\n",
       "      <td>0</td>\n",
       "      <td>1</td>\n",
       "      <td>1</td>\n",
       "    </tr>\n",
       "    <tr>\n",
       "      <th>5877</th>\n",
       "      <td>1</td>\n",
       "      <td>-1</td>\n",
       "      <td>1</td>\n",
       "      <td>1</td>\n",
       "      <td>1</td>\n",
       "      <td>-1</td>\n",
       "      <td>1</td>\n",
       "      <td>1</td>\n",
       "      <td>-1</td>\n",
       "      <td>1</td>\n",
       "      <td>...</td>\n",
       "      <td>1</td>\n",
       "      <td>1</td>\n",
       "      <td>-1</td>\n",
       "      <td>1</td>\n",
       "      <td>0</td>\n",
       "      <td>1</td>\n",
       "      <td>1</td>\n",
       "      <td>0</td>\n",
       "      <td>1</td>\n",
       "      <td>1</td>\n",
       "    </tr>\n",
       "    <tr>\n",
       "      <th>6381</th>\n",
       "      <td>-1</td>\n",
       "      <td>1</td>\n",
       "      <td>1</td>\n",
       "      <td>1</td>\n",
       "      <td>1</td>\n",
       "      <td>-1</td>\n",
       "      <td>1</td>\n",
       "      <td>0</td>\n",
       "      <td>-1</td>\n",
       "      <td>1</td>\n",
       "      <td>...</td>\n",
       "      <td>1</td>\n",
       "      <td>1</td>\n",
       "      <td>1</td>\n",
       "      <td>1</td>\n",
       "      <td>-1</td>\n",
       "      <td>-1</td>\n",
       "      <td>1</td>\n",
       "      <td>1</td>\n",
       "      <td>1</td>\n",
       "      <td>-1</td>\n",
       "    </tr>\n",
       "  </tbody>\n",
       "</table>\n",
       "<p>5 rows × 31 columns</p>\n",
       "</div>"
      ],
      "text/plain": [
       "      having_IP_Address  URL_Length  Shortining_Service  having_At_Symbol  \\\n",
       "6201                 -1          -1                  -1                 1   \n",
       "793                   1          -1                   1                 1   \n",
       "7110                  1          -1                   1                 1   \n",
       "5877                  1          -1                   1                 1   \n",
       "6381                 -1           1                   1                 1   \n",
       "\n",
       "      double_slash_redirecting  Prefix_Suffix  having_Sub_Domain  \\\n",
       "6201                        -1              1                  0   \n",
       "793                          1             -1                 -1   \n",
       "7110                         1             -1                  1   \n",
       "5877                         1             -1                  1   \n",
       "6381                         1             -1                  1   \n",
       "\n",
       "      SSLfinal_State  Domain_registeration_length  Favicon  ...  popUpWidnow  \\\n",
       "6201               1                           -1        1  ...            1   \n",
       "793               -1                            1        1  ...            1   \n",
       "7110               1                           -1        1  ...            1   \n",
       "5877               1                           -1        1  ...            1   \n",
       "6381               0                           -1        1  ...            1   \n",
       "\n",
       "      Iframe  age_of_domain  DNSRecord  web_traffic  Page_Rank  Google_Index  \\\n",
       "6201       1             -1         -1            1         -1            -1   \n",
       "793        1             -1         -1            0         -1             1   \n",
       "7110       1             -1          1            1          1             1   \n",
       "5877       1             -1          1            0          1             1   \n",
       "6381       1              1          1           -1         -1             1   \n",
       "\n",
       "      Links_pointing_to_page  Statistical_report  Result  \n",
       "6201                       1                   1       1  \n",
       "793                        1                   1      -1  \n",
       "7110                       0                   1       1  \n",
       "5877                       0                   1       1  \n",
       "6381                       1                   1      -1  \n",
       "\n",
       "[5 rows x 31 columns]"
      ]
     },
     "execution_count": 3,
     "metadata": {},
     "output_type": "execute_result"
    }
   ],
   "source": [
    "df = pd.read_csv(\"../data/phishingData.csv\")\n",
    "\n",
    "df.sample(5)"
   ]
  },
  {
   "cell_type": "code",
   "execution_count": 4,
   "id": "e01d3ae5",
   "metadata": {},
   "outputs": [
    {
     "data": {
      "text/plain": [
       "Index(['having_IP_Address', 'URL_Length', 'Shortining_Service',\n",
       "       'having_At_Symbol', 'double_slash_redirecting', 'Prefix_Suffix',\n",
       "       'having_Sub_Domain', 'SSLfinal_State', 'Domain_registeration_length',\n",
       "       'Favicon', 'port', 'HTTPS_token', 'Request_URL', 'URL_of_Anchor',\n",
       "       'Links_in_tags', 'SFH', 'Submitting_to_email', 'Abnormal_URL',\n",
       "       'Redirect', 'on_mouseover', 'RightClick', 'popUpWidnow', 'Iframe',\n",
       "       'age_of_domain', 'DNSRecord', 'web_traffic', 'Page_Rank',\n",
       "       'Google_Index', 'Links_pointing_to_page', 'Statistical_report',\n",
       "       'Result'],\n",
       "      dtype='object')"
      ]
     },
     "execution_count": 4,
     "metadata": {},
     "output_type": "execute_result"
    }
   ],
   "source": [
    "df.columns"
   ]
  },
  {
   "cell_type": "markdown",
   "id": "e6f70b81",
   "metadata": {},
   "source": [
    "## 1. Lower the column names"
   ]
  },
  {
   "cell_type": "code",
   "execution_count": 5,
   "id": "6c278b3f",
   "metadata": {},
   "outputs": [
    {
     "data": {
      "text/plain": [
       "Index(['having_ip_address', 'url_length', 'shortining_service',\n",
       "       'having_at_symbol', 'double_slash_redirecting', 'prefix_suffix',\n",
       "       'having_sub_domain', 'sslfinal_state', 'domain_registeration_length',\n",
       "       'favicon', 'port', 'https_token', 'request_url', 'url_of_anchor',\n",
       "       'links_in_tags', 'sfh', 'submitting_to_email', 'abnormal_url',\n",
       "       'redirect', 'on_mouseover', 'rightclick', 'popupwidnow', 'iframe',\n",
       "       'age_of_domain', 'dnsrecord', 'web_traffic', 'page_rank',\n",
       "       'google_index', 'links_pointing_to_page', 'statistical_report',\n",
       "       'result'],\n",
       "      dtype='object')"
      ]
     },
     "execution_count": 5,
     "metadata": {},
     "output_type": "execute_result"
    }
   ],
   "source": [
    "df.columns.str.lower()"
   ]
  },
  {
   "cell_type": "code",
   "execution_count": 13,
   "id": "1ef58923",
   "metadata": {},
   "outputs": [],
   "source": [
    "df.columns = df.columns.str.lower()"
   ]
  },
  {
   "cell_type": "code",
   "execution_count": 34,
   "id": "d08ff4bb",
   "metadata": {},
   "outputs": [],
   "source": [
    "data = [\n",
    "    {\"column_name\": col,\n",
    "    \"total_unique_values\": df[col].nunique(),\n",
    "    \"allowed_unique_values\": df[col].unique(),\n",
    "    \"data_type\": df[col].dtype,}\n",
    "    for col in df.columns\n",
    "]"
   ]
  },
  {
   "cell_type": "markdown",
   "id": "6ed7ec42",
   "metadata": {},
   "source": [
    "## 2. Check if the dataset has any missing values, same unique values, etc."
   ]
  },
  {
   "cell_type": "code",
   "execution_count": 35,
   "id": "ae3239c5",
   "metadata": {},
   "outputs": [
    {
     "data": {
      "text/html": [
       "<div>\n",
       "<style scoped>\n",
       "    .dataframe tbody tr th:only-of-type {\n",
       "        vertical-align: middle;\n",
       "    }\n",
       "\n",
       "    .dataframe tbody tr th {\n",
       "        vertical-align: top;\n",
       "    }\n",
       "\n",
       "    .dataframe thead th {\n",
       "        text-align: right;\n",
       "    }\n",
       "</style>\n",
       "<table border=\"1\" class=\"dataframe\">\n",
       "  <thead>\n",
       "    <tr style=\"text-align: right;\">\n",
       "      <th></th>\n",
       "      <th>column_name</th>\n",
       "      <th>total_unique_values</th>\n",
       "      <th>allowed_unique_values</th>\n",
       "      <th>data_type</th>\n",
       "    </tr>\n",
       "  </thead>\n",
       "  <tbody>\n",
       "    <tr>\n",
       "      <th>0</th>\n",
       "      <td>having_ip_address</td>\n",
       "      <td>2</td>\n",
       "      <td>[-1, 1]</td>\n",
       "      <td>int64</td>\n",
       "    </tr>\n",
       "    <tr>\n",
       "      <th>1</th>\n",
       "      <td>url_length</td>\n",
       "      <td>3</td>\n",
       "      <td>[1, 0, -1]</td>\n",
       "      <td>int64</td>\n",
       "    </tr>\n",
       "    <tr>\n",
       "      <th>2</th>\n",
       "      <td>shortining_service</td>\n",
       "      <td>2</td>\n",
       "      <td>[1, -1]</td>\n",
       "      <td>int64</td>\n",
       "    </tr>\n",
       "    <tr>\n",
       "      <th>3</th>\n",
       "      <td>having_at_symbol</td>\n",
       "      <td>2</td>\n",
       "      <td>[1, -1]</td>\n",
       "      <td>int64</td>\n",
       "    </tr>\n",
       "    <tr>\n",
       "      <th>4</th>\n",
       "      <td>double_slash_redirecting</td>\n",
       "      <td>2</td>\n",
       "      <td>[-1, 1]</td>\n",
       "      <td>int64</td>\n",
       "    </tr>\n",
       "  </tbody>\n",
       "</table>\n",
       "</div>"
      ],
      "text/plain": [
       "                column_name  total_unique_values allowed_unique_values  \\\n",
       "0         having_ip_address                    2               [-1, 1]   \n",
       "1                url_length                    3            [1, 0, -1]   \n",
       "2        shortining_service                    2               [1, -1]   \n",
       "3          having_at_symbol                    2               [1, -1]   \n",
       "4  double_slash_redirecting                    2               [-1, 1]   \n",
       "\n",
       "  data_type  \n",
       "0     int64  \n",
       "1     int64  \n",
       "2     int64  \n",
       "3     int64  \n",
       "4     int64  "
      ]
     },
     "execution_count": 35,
     "metadata": {},
     "output_type": "execute_result"
    }
   ],
   "source": [
    "column_data = pd.DataFrame(data=data)\n",
    "column_data.head()"
   ]
  },
  {
   "cell_type": "code",
   "execution_count": 41,
   "id": "03d59c62",
   "metadata": {},
   "outputs": [],
   "source": [
    "column_data[\"allowed_unique_values\"] = column_data[\"allowed_unique_values\"].apply(lambda x: x.tolist() if hasattr(x, 'tolist') else x)"
   ]
  },
  {
   "cell_type": "code",
   "execution_count": 42,
   "id": "c27b33e3",
   "metadata": {},
   "outputs": [],
   "source": [
    "schema = {\"columns\": {}}"
   ]
  },
  {
   "cell_type": "code",
   "execution_count": 43,
   "id": "fb12603c",
   "metadata": {},
   "outputs": [],
   "source": [
    "for _, row in column_data.iterrows():\n",
    "    schema['columns'][row['column_name']] = {\n",
    "        'total_unique_values': row['total_unique_values'],\n",
    "        'allowed_unique_values': row['allowed_unique_values'],\n",
    "        'data_type': str(row['data_type'])\n",
    "    }"
   ]
  },
  {
   "cell_type": "code",
   "execution_count": 22,
   "id": "fd95cf96",
   "metadata": {},
   "outputs": [],
   "source": [
    "from phishdetector.utils.common import write_yaml\n",
    "from pathlib import Path"
   ]
  },
  {
   "cell_type": "code",
   "execution_count": 44,
   "id": "3f93fd48",
   "metadata": {},
   "outputs": [
    {
     "name": "stderr",
     "output_type": "stream",
     "text": [
      "[2025-05-30 15:08:50,981] : INFO : common : Successfully wrote to ..\\data\\schema.yaml.\n"
     ]
    }
   ],
   "source": [
    "write_yaml(filepath=Path(\"../data/schema.yaml\"), content=schema)"
   ]
  },
  {
   "cell_type": "code",
   "execution_count": null,
   "id": "1c91ee95",
   "metadata": {},
   "outputs": [],
   "source": []
  }
 ],
 "metadata": {
  "kernelspec": {
   "display_name": ".venv",
   "language": "python",
   "name": "python3"
  },
  "language_info": {
   "codemirror_mode": {
    "name": "ipython",
    "version": 3
   },
   "file_extension": ".py",
   "mimetype": "text/x-python",
   "name": "python",
   "nbconvert_exporter": "python",
   "pygments_lexer": "ipython3",
   "version": "3.12.8"
  }
 },
 "nbformat": 4,
 "nbformat_minor": 5
}
